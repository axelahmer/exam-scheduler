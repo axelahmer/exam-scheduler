{
 "cells": [
  {
   "cell_type": "code",
   "execution_count": 15,
   "metadata": {},
   "outputs": [
    {
     "data": {
      "application/vnd.jupyter.widget-view+json": {
       "model_id": "e3eaa6229ba54f03a0c580ac072677b7",
       "version_major": 2,
       "version_minor": 0
      },
      "text/plain": [
       "interactive(children=(Dropdown(description='Solution File:', options=('results\\\\20240902_153229_tmax23_capacit…"
      ]
     },
     "metadata": {},
     "output_type": "display_data"
    },
    {
     "data": {
      "text/plain": [
       "<function __main__.update_plot(file_path)>"
      ]
     },
     "execution_count": 15,
     "metadata": {},
     "output_type": "execute_result"
    }
   ],
   "source": [
    "import os\n",
    "import pandas as pd\n",
    "import matplotlib.pyplot as plt\n",
    "import ipywidgets as widgets\n",
    "from ipywidgets import interact\n",
    "\n",
    "# Load the enrolments data to count student enrollments for each exam\n",
    "enrolments_data = pd.read_csv(\n",
    "    'nott/enrolements', sep=' ', header=None, names=['student_code', 'exam_code'])\n",
    "\n",
    "# Count students enrolled in each exam\n",
    "exam_enrollment_count = enrolments_data['exam_code'].value_counts().to_dict()\n",
    "\n",
    "# Define the timeslots and their durations\n",
    "days = [\"Monday\", \"Tuesday\", \"Wednesday\", \"Thursday\", \"Friday\", \"Saturday\"]\n",
    "times = [(\"9:00\", 180), (\"13:30\", 120), (\"16:30\", 120)]\n",
    "day_ids = [1, 2, 3, 4, 5, 6, 8, 9, 10, 11, 12, 13]\n",
    "\n",
    "timeslots = []\n",
    "timeslot_labels = {}\n",
    "timeslot_id = 1\n",
    "\n",
    "for day_id, day in zip(day_ids, days * 2):\n",
    "    if day == \"Saturday\":\n",
    "        timeslots.append((timeslot_id, day_id, f\"{day} 9:00\", 180))\n",
    "        timeslot_labels[timeslot_id] = f\"{day} 9:00\"\n",
    "        timeslot_id += 1\n",
    "    else:\n",
    "        for time, duration in times:\n",
    "            timeslots.append((timeslot_id, day_id, f\"{day} {time}\", duration))\n",
    "            timeslot_labels[timeslot_id] = f\"{day} {time}\"\n",
    "            timeslot_id += 1\n",
    "\n",
    "# Function to load the solution file\n",
    "def load_solution(file_path):\n",
    "    df = pd.read_csv(file_path)\n",
    "    # Add student counts to the DataFrame\n",
    "    df['student_count'] = df['exam'].apply(lambda x: exam_enrollment_count.get(x.upper(), 0))\n",
    "    return df\n",
    "\n",
    "# Function to plot the solution\n",
    "def plot_solution(df):\n",
    "    # Extract unique timeslots\n",
    "    timeslots = df['timeslot'].unique()\n",
    "\n",
    "    # Create a figure and axis\n",
    "    fig, ax = plt.subplots(figsize=(15, 8))\n",
    "\n",
    "    # Plot the stacked bar chart\n",
    "    for timeslot in timeslots:\n",
    "        timeslot_data = df[df['timeslot'] == timeslot]\n",
    "        bottom = 0\n",
    "        for exam in timeslot_data['exam'].unique():\n",
    "            exam_data = timeslot_data[timeslot_data['exam'] == exam]\n",
    "            ax.bar(timeslot, exam_data['student_count'].values[0], bottom=bottom, label=exam)\n",
    "            bottom += exam_data['student_count'].values[0]\n",
    "\n",
    "    # Add a dotted line for the capacity\n",
    "    ax.axhline(y=1550, color='r', linestyle='--', label='Capacity (1550)')\n",
    "\n",
    "    # Set labels and title\n",
    "    ax.set_xlabel('Timeslot')\n",
    "    ax.set_ylabel('Number of Students')\n",
    "    ax.set_title('Exam Schedule')\n",
    "\n",
    "    # Set custom x-axis labels\n",
    "    ax.set_xticks(timeslots)\n",
    "    ax.set_xticklabels([timeslot_labels[t] for t in timeslots], rotation=45, ha='right')\n",
    "\n",
    "    # Remove the legend\n",
    "    ax.legend().remove()\n",
    "\n",
    "    # Show the plot\n",
    "    plt.show()\n",
    "\n",
    "# Function to update the plot based on the selected file\n",
    "def update_plot(file_path):\n",
    "    df = load_solution(file_path)\n",
    "    plot_solution(df)\n",
    "\n",
    "# Get the list of solution files\n",
    "solution_files = [os.path.join(root, file)\n",
    "                  for root, dirs, files in os.walk('results')\n",
    "                  for file in files if file.endswith('.csv')]\n",
    "\n",
    "# Create a dropdown widget for file selection\n",
    "file_selector = widgets.Dropdown(\n",
    "    options=solution_files,\n",
    "    description='Solution File:',\n",
    "    disabled=False,\n",
    ")\n",
    "\n",
    "# Use the interact function to update the plot based on the selected file\n",
    "interact(update_plot, file_path=file_selector)"
   ]
  }
 ],
 "metadata": {
  "kernelspec": {
   "display_name": "default",
   "language": "python",
   "name": "python3"
  },
  "language_info": {
   "codemirror_mode": {
    "name": "ipython",
    "version": 3
   },
   "file_extension": ".py",
   "mimetype": "text/x-python",
   "name": "python",
   "nbconvert_exporter": "python",
   "pygments_lexer": "ipython3",
   "version": "3.12.4"
  }
 },
 "nbformat": 4,
 "nbformat_minor": 2
}
